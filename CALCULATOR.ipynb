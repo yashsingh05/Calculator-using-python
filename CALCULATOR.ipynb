{
 "cells": [
  {
   "cell_type": "markdown",
   "id": "32c12055",
   "metadata": {},
   "source": [
    "# CALCULATOR"
   ]
  },
  {
   "cell_type": "code",
   "execution_count": 9,
   "id": "d1bddff1",
   "metadata": {},
   "outputs": [
    {
     "ename": "IndentationError",
     "evalue": "unexpected indent (Temp/ipykernel_9888/2972376359.py, line 42)",
     "output_type": "error",
     "traceback": [
      "\u001b[1;36m  File \u001b[1;32m\"C:\\Users\\yashr\\AppData\\Local\\Temp/ipykernel_9888/2972376359.py\"\u001b[1;36m, line \u001b[1;32m42\u001b[0m\n\u001b[1;33m    break\u001b[0m\n\u001b[1;37m    ^\u001b[0m\n\u001b[1;31mIndentationError\u001b[0m\u001b[1;31m:\u001b[0m unexpected indent\n"
     ]
    }
   ],
   "source": [
    "print(\"****WELCOME TO THE CALCULATOR**** \\n\")\n",
    "\n",
    "print(\"WHAT OPERATION WOULD YOU LIKE TO DO\")\n",
    "print(\"1.ADDITION\")\n",
    "print(\"2.SUBTRACTION\")\n",
    "print(\"3.MULTIPLICATION\")\n",
    "print(\"4.DIVISION\")\n",
    "print(\"5.NO OPERATION\")\n",
    "\n",
    "choise = (\"ENTER THE SERIAL NUMBER OF THE OPERATION YOU WANT TO PERFORM \")\n",
    "\n",
    "if choise == 1:\n",
    "    num1 = int(input(\"ENTER YOUR NUMBER\"))\n",
    "    num2 = int(input(\"ENTER YOUR NUMBER\"))\n",
    "    \n",
    "    print(f\"{num1} + {num2} = \" , num1 + num2)\n",
    "    print(\"OUTPUT IS:\" , num1+num2)\n",
    "    \n",
    "elif choise == 2:\n",
    "    num1 = int(input(\"ENTER YOUR NUMBER\"))\n",
    "    num2 = int(input(\"ENTER YOUR NUMBER\"))\n",
    "    \n",
    "    print(f\"{num1} - {num2} = \" , num1 - num2)\n",
    "    print(\"OUTPUT IS:\" , num1-num2)\n",
    "    \n",
    "elif choise == 3:\n",
    "    num1 = int(input(\"ENTER YOUR NUMBER\"))\n",
    "    num2 = int(input(\"ENTER YOUR NUMBER\"))\n",
    "    \n",
    "    print(f\"{num1} * {num2} = \" , num1 * num2)\n",
    "    print(\"OUTPUT IS:\" , num1*num2)    \n",
    "    \n",
    "elif choise == 4:\n",
    "    num1 = int(input(\"ENTER YOUR NUMBER\"))\n",
    "    num2 = int(input(\"ENTER YOUR NUMBER\"))\n",
    "    \n",
    "    print(f\"{num1} / {num2} = \" , num1 / num2)\n",
    "    print(\"OUTPUT IS:\" , num1/num2)    \n",
    "    \n",
    "elif choise == 5:\n",
    "    print(\"EXITING THE CALCULATOR\")\n",
    "     break\n",
    "         print()    \n",
    "    "
   ]
  },
  {
   "cell_type": "code",
   "execution_count": null,
   "id": "6dec8353",
   "metadata": {},
   "outputs": [],
   "source": []
  }
 ],
 "metadata": {
  "kernelspec": {
   "display_name": "Python 3 (ipykernel)",
   "language": "python",
   "name": "python3"
  },
  "language_info": {
   "codemirror_mode": {
    "name": "ipython",
    "version": 3
   },
   "file_extension": ".py",
   "mimetype": "text/x-python",
   "name": "python",
   "nbconvert_exporter": "python",
   "pygments_lexer": "ipython3",
   "version": "3.9.7"
  }
 },
 "nbformat": 4,
 "nbformat_minor": 5
}
